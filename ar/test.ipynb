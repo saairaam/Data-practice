{
 "cells": [
  {
   "cell_type": "code",
   "execution_count": 4,
   "metadata": {},
   "outputs": [],
   "source": [
    "import cv2\n",
    "import numpy as np\n",
    "\n",
    "# Load the images\n",
    "image_paths = 'index_1.jpg'\n",
    "image = cv2.imread(image_paths)\n",
    "gray = cv2.cvtColor(image, cv2.COLOR_BGR2GRAY)\n",
    "\n",
    "# Preprocessing\n",
    "blurred = cv2.GaussianBlur(gray, (5, 5), 0)\n",
    "\n",
    "# Edge detection\n",
    "edges = cv2.Canny(blurred, 50, 150)\n",
    "\n",
    "# Morphological operations to handle overlaps and connect broken edges\n",
    "kernel = cv2.getStructuringElement(cv2.MORPH_RECT, (5, 5))\n",
    "dilated = cv2.dilate(edges, kernel, iterations=1)\n",
    "\n",
    "# Find contours\n",
    "contours, _ = cv2.findContours(dilated, cv2.RETR_TREE, cv2.CHAIN_APPROX_SIMPLE)\n",
    "\n",
    "# Iterate through contours and filter for squares\n",
    "squares = []\n",
    "for cnt in contours:\n",
    "    approx = cv2.approxPolyDP(cnt, 0.02 * cv2.arcLength(cnt, True), True)\n",
    "    if len(approx) == 4:  # Check if it is a quadrilateral\n",
    "        # Verify if all sides are approximately the same length\n",
    "        (x, y, w, h) = cv2.boundingRect(approx)\n",
    "        aspect_ratio = float(w) / h\n",
    "        if 0.9 < aspect_ratio < 1.1:  # Check if the aspect ratio is near 1\n",
    "            squares.append(approx)\n",
    "\n",
    "# Draw detected squares on the image\n",
    "for square in squares:\n",
    "    cv2.drawContours(image, [square], 0, (0, 255, 0), 2)\n",
    "\n",
    "# Display the result\n",
    "cv2.imwrite('detected_squares.jpg', image)\n",
    "cv2.imshow('Detected Squares', image)\n",
    "\n",
    "cv2.waitKey(0)\n",
    "cv2.destroyAllWindows()\n"
   ]
  },
  {
   "cell_type": "code",
   "execution_count": null,
   "metadata": {},
   "outputs": [],
   "source": []
  }
 ],
 "metadata": {
  "kernelspec": {
   "display_name": "Python 3",
   "language": "python",
   "name": "python3"
  },
  "language_info": {
   "codemirror_mode": {
    "name": "ipython",
    "version": 3
   },
   "file_extension": ".py",
   "mimetype": "text/x-python",
   "name": "python",
   "nbconvert_exporter": "python",
   "pygments_lexer": "ipython3",
   "version": "3.11.2"
  }
 },
 "nbformat": 4,
 "nbformat_minor": 2
}
