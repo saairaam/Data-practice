{
 "cells": [
  {
   "cell_type": "code",
   "execution_count": null,
   "metadata": {},
   "outputs": [
    {
     "ename": "KeyboardInterrupt",
     "evalue": "",
     "output_type": "error",
     "traceback": [
      "\u001b[0;31m---------------------------------------------------------------------------\u001b[0m",
      "\u001b[0;31mKeyboardInterrupt\u001b[0m                         Traceback (most recent call last)",
      "Cell \u001b[0;32mIn[1], line 80\u001b[0m\n\u001b[1;32m     77\u001b[0m             imgAug \u001b[38;5;241m=\u001b[39m cv2\u001b[38;5;241m.\u001b[39mbitwise_or(imgWarp, imgAug)\n\u001b[1;32m     79\u001b[0m cv2\u001b[38;5;241m.\u001b[39mimshow(\u001b[38;5;124m'\u001b[39m\u001b[38;5;124mAugmented Reality\u001b[39m\u001b[38;5;124m'\u001b[39m, imgAug)\n\u001b[0;32m---> 80\u001b[0m \u001b[38;5;28;01mif\u001b[39;00m \u001b[43mcv2\u001b[49m\u001b[38;5;241;43m.\u001b[39;49m\u001b[43mwaitKey\u001b[49m\u001b[43m(\u001b[49m\u001b[38;5;241;43m1\u001b[39;49m\u001b[43m)\u001b[49m \u001b[38;5;241m&\u001b[39m \u001b[38;5;241m0xFF\u001b[39m \u001b[38;5;241m==\u001b[39m \u001b[38;5;28mord\u001b[39m(\u001b[38;5;124m'\u001b[39m\u001b[38;5;124mq\u001b[39m\u001b[38;5;124m'\u001b[39m):\n\u001b[1;32m     81\u001b[0m     \u001b[38;5;28;01mbreak\u001b[39;00m\n\u001b[1;32m     82\u001b[0m frameCounter \u001b[38;5;241m+\u001b[39m\u001b[38;5;241m=\u001b[39m \u001b[38;5;241m1\u001b[39m\n",
      "\u001b[0;31mKeyboardInterrupt\u001b[0m: "
     ]
    },
    {
     "ename": "",
     "evalue": "",
     "output_type": "error",
     "traceback": [
      "\u001b[1;31mThe Kernel crashed while executing code in the current cell or a previous cell. \n",
      "\u001b[1;31mPlease review the code in the cell(s) to identify a possible cause of the failure. \n",
      "\u001b[1;31mClick <a href='https://aka.ms/vscodeJupyterKernelCrash'>here</a> for more info. \n",
      "\u001b[1;31mView Jupyter <a href='command:jupyter.viewOutput'>log</a> for further details."
     ]
    }
   ],
   "source": [
    "import cv2\n",
    "import numpy as np\n",
    "\n",
    "# Initialize video capture for webcam and video source\n",
    "cap = cv2.VideoCapture(0)\n",
    "imgTarget = cv2.imread('target3.png')\n",
    "myVid = cv2.VideoCapture('video.mp4')\n",
    "\n",
    "detection = False\n",
    "frameCounter = 0\n",
    "\n",
    "# Read and resize the video frame to match the target size\n",
    "success, imgVideo = myVid.read()\n",
    "hT, wT, _ = imgTarget.shape\n",
    "imgVideo = cv2.resize(imgVideo, (wT, hT))\n",
    "\n",
    "# Initialize ORB detector\n",
    "orb = cv2.ORB_create(nfeatures=1000)\n",
    "kp1, des1 = orb.detectAndCompute(imgTarget, None)\n",
    "\n",
    "# Function to stack images\n",
    "while True:\n",
    "    success, imgWebcam = cap.read()\n",
    "    if not success:\n",
    "        break\n",
    "\n",
    "    imgAug = imgWebcam.copy()\n",
    "    kp2, des2 = orb.detectAndCompute(imgWebcam, None)\n",
    "\n",
    "    if not detection:\n",
    "        myVid.set(cv2.CAP_PROP_POS_FRAMES, 0)\n",
    "        frameCounter = 0\n",
    "    else:\n",
    "        if frameCounter >= myVid.get(cv2.CAP_PROP_FRAME_COUNT):\n",
    "            myVid.set(cv2.CAP_PROP_POS_FRAMES, 0)\n",
    "            frameCounter = 0\n",
    "        success, imgVideo = myVid.read()\n",
    "        imgVideo = cv2.resize(imgVideo, (wT, hT))\n",
    "\n",
    "    if des2 is not None:\n",
    "        bf = cv2.BFMatcher()\n",
    "        matches = bf.knnMatch(des1, des2, k=2)\n",
    "        good = [m for m, n in matches if m.distance < 0.75 * n.distance]\n",
    "\n",
    "        if len(good) > 20:\n",
    "            detection = True\n",
    "            srcPts = np.float32([kp1[m.queryIdx].pt for m in good]).reshape(-1, 1, 2)\n",
    "            dstPts = np.float32([kp2[m.trainIdx].pt for m in good]).reshape(-1, 1, 2)\n",
    "            matrix, mask = cv2.findHomography(srcPts, dstPts, cv2.RANSAC, 5)\n",
    "\n",
    "            if matrix is not None:\n",
    "                pts = np.float32([[0, 0], [0, hT], [wT, hT], [wT, 0]]).reshape(-1, 1, 2)\n",
    "                dst = cv2.perspectiveTransform(pts, matrix)\n",
    "                imgWebcam = cv2.polylines(imgWebcam, [np.int32(dst)], True, (255, 0, 255), 3)\n",
    "\n",
    "                imgWarp = cv2.warpPerspective(imgVideo, matrix, (imgWebcam.shape[1], imgWebcam.shape[0]))\n",
    "                maskNew = np.zeros((imgWebcam.shape[0], imgWebcam.shape[1]), np.uint8)\n",
    "                cv2.fillPoly(maskNew, [np.int32(dst)], (255, 255, 255))\n",
    "                maskInv = cv2.bitwise_not(maskNew)\n",
    "                imgAug = cv2.bitwise_and(imgAug, imgAug, mask=maskInv)\n",
    "                imgAug = cv2.bitwise_or(imgWarp, imgAug)\n",
    "\n",
    "    cv2.imshow('Augmented Reality', imgAug)\n",
    "    if cv2.waitKey(1) & 0xFF == ord('q'):\n",
    "        break\n",
    "    frameCounter += 1\n",
    "\n",
    "cap.release()\n",
    "myVid.release()\n",
    "cv2.destroyAllWindows()\n"
   ]
  },
  {
   "cell_type": "code",
   "execution_count": null,
   "metadata": {},
   "outputs": [],
   "source": []
  },
  {
   "cell_type": "code",
   "execution_count": null,
   "metadata": {},
   "outputs": [],
   "source": []
  },
  {
   "cell_type": "code",
   "execution_count": null,
   "metadata": {},
   "outputs": [],
   "source": []
  },
  {
   "cell_type": "code",
   "execution_count": null,
   "metadata": {},
   "outputs": [],
   "source": []
  }
 ],
 "metadata": {
  "kernelspec": {
   "display_name": "Python 3",
   "language": "python",
   "name": "python3"
  },
  "language_info": {
   "codemirror_mode": {
    "name": "ipython",
    "version": 3
   },
   "file_extension": ".py",
   "mimetype": "text/x-python",
   "name": "python",
   "nbconvert_exporter": "python",
   "pygments_lexer": "ipython3",
   "version": "3.11.2"
  }
 },
 "nbformat": 4,
 "nbformat_minor": 2
}
